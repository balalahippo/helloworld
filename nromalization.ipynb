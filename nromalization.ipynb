{
  "nbformat": 4,
  "nbformat_minor": 0,
  "metadata": {
    "colab": {
      "name": "Untitled1.ipynb",
      "provenance": [],
      "authorship_tag": "ABX9TyPiazxGRe9aTmajYIBIL1XL",
      "include_colab_link": true
    },
    "kernelspec": {
      "name": "python3",
      "display_name": "Python 3"
    },
    "language_info": {
      "name": "python"
    }
  },
  "cells": [
    {
      "cell_type": "markdown",
      "metadata": {
        "id": "view-in-github",
        "colab_type": "text"
      },
      "source": [
        "<a href=\"https://colab.research.google.com/github/balalahippo/helloworld/blob/numpy/nromalization.ipynb\" target=\"_parent\"><img src=\"https://colab.research.google.com/assets/colab-badge.svg\" alt=\"Open In Colab\"/></a>"
      ]
    },
    {
      "cell_type": "code",
      "metadata": {
        "id": "fA-S7L5MyEtD"
      },
      "source": [
        "import numpy as np"
      ],
      "execution_count": 1,
      "outputs": []
    },
    {
      "cell_type": "code",
      "metadata": {
        "colab": {
          "base_uri": "https://localhost:8080/"
        },
        "id": "hzEep3eOya0q",
        "outputId": "ebd79f49-ed12-4f96-def3-200e5f48b904"
      },
      "source": [
        "array1 = np.random.randint(0,11,(5,5))\n",
        "array1"
      ],
      "execution_count": 7,
      "outputs": [
        {
          "output_type": "execute_result",
          "data": {
            "text/plain": [
              "array([[ 9,  2,  5,  6,  5],\n",
              "       [10,  1,  8,  4,  5],\n",
              "       [ 2,  1,  7,  8,  1],\n",
              "       [ 3,  3, 10,  7,  4],\n",
              "       [ 6,  5,  4,  0,  6]])"
            ]
          },
          "metadata": {},
          "execution_count": 7
        }
      ]
    },
    {
      "cell_type": "markdown",
      "metadata": {
        "id": "OkiBo-dczNwE"
      },
      "source": [
        "三种归一化方法 ：1 绝对值归一化"
      ]
    },
    {
      "cell_type": "code",
      "metadata": {
        "colab": {
          "base_uri": "https://localhost:8080/"
        },
        "id": "uHVTjlqPzU_P",
        "outputId": "9d360546-4838-4648-9766-c782c63ca755"
      },
      "source": [
        "array1_min = array1.min()\n",
        "array1_max = array1.max()\n",
        "array1_normal_way1 = ( array1 - array1_min )/(array1_max - array1_min)\n",
        "array1_normal_way1"
      ],
      "execution_count": 8,
      "outputs": [
        {
          "output_type": "execute_result",
          "data": {
            "text/plain": [
              "array([[0.9, 0.2, 0.5, 0.6, 0.5],\n",
              "       [1. , 0.1, 0.8, 0.4, 0.5],\n",
              "       [0.2, 0.1, 0.7, 0.8, 0.1],\n",
              "       [0.3, 0.3, 1. , 0.7, 0.4],\n",
              "       [0.6, 0.5, 0.4, 0. , 0.6]])"
            ]
          },
          "metadata": {},
          "execution_count": 8
        }
      ]
    },
    {
      "cell_type": "markdown",
      "metadata": {
        "id": "eBbAMZFY0HEf"
      },
      "source": [
        "          2 方差归一化"
      ]
    },
    {
      "cell_type": "code",
      "metadata": {
        "colab": {
          "base_uri": "https://localhost:8080/"
        },
        "id": "Wh6LHusf0TZt",
        "outputId": "1b8fbd39-7761-4e4e-af72-1d8b8dac2fe4"
      },
      "source": [
        "array1 = np.array(array1,dtype='float32')\n",
        "array1"
      ],
      "execution_count": 9,
      "outputs": [
        {
          "output_type": "execute_result",
          "data": {
            "text/plain": [
              "array([[ 9.,  2.,  5.,  6.,  5.],\n",
              "       [10.,  1.,  8.,  4.,  5.],\n",
              "       [ 2.,  1.,  7.,  8.,  1.],\n",
              "       [ 3.,  3., 10.,  7.,  4.],\n",
              "       [ 6.,  5.,  4.,  0.,  6.]], dtype=float32)"
            ]
          },
          "metadata": {},
          "execution_count": 9
        }
      ]
    },
    {
      "cell_type": "code",
      "metadata": {
        "colab": {
          "base_uri": "https://localhost:8080/"
        },
        "id": "FYzaIsja02sN",
        "outputId": "7b9b1ca6-bfa5-493f-a28f-c5cef623ba0b"
      },
      "source": [
        "array1_normal_way2 = (array1 - array1.mean())/(array1.std())\n",
        "array1_normal_way2"
      ],
      "execution_count": 10,
      "outputs": [
        {
          "output_type": "execute_result",
          "data": {
            "text/plain": [
              "array([[ 1.4690322 , -1.0268964 ,  0.0427873 ,  0.3993485 ,  0.0427873 ],\n",
              "       [ 1.8255934 , -1.3834575 ,  1.112471  , -0.3137739 ,  0.0427873 ],\n",
              "       [-1.0268964 , -1.3834575 ,  0.75590974,  1.112471  , -1.3834575 ],\n",
              "       [-0.6703351 , -0.6703351 ,  1.8255934 ,  0.75590974, -0.3137739 ],\n",
              "       [ 0.3993485 ,  0.0427873 , -0.3137739 , -1.7400187 ,  0.3993485 ]],\n",
              "      dtype=float32)"
            ]
          },
          "metadata": {},
          "execution_count": 10
        }
      ]
    },
    {
      "cell_type": "code",
      "metadata": {
        "id": "T6AQ-SR41vjp"
      },
      "source": [
        ""
      ],
      "execution_count": null,
      "outputs": []
    }
  ]
}